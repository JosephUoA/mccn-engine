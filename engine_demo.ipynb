{
 "cells": [
  {
   "cell_type": "code",
   "execution_count": null,
   "id": "536cb3b4-4704-468e-bba0-25a77be9671c",
   "metadata": {},
   "outputs": [],
   "source": [
    "from odc.geo.geobox import GeoBox\n",
    "from mccn.mccn import Mccn"
   ]
  },
  {
   "cell_type": "markdown",
   "id": "186d2be1-b3fc-4012-bfc9-26c3e60e3dfe",
   "metadata": {},
   "source": [
    "Connect to the stac endpoint. This can be hidden or wrapped inside the constructor but for now it is exposed"
   ]
  },
  {
   "cell_type": "code",
   "execution_count": null,
   "id": "2249086c-d3d6-406a-8ca5-b47148eca848",
   "metadata": {},
   "outputs": [],
   "source": [
    "m = Mccn(\"ENTER STAC ENDPOINT HERE\")"
   ]
  },
  {
   "cell_type": "markdown",
   "id": "15c717e2-8db9-4582-9ad8-51a2f88730ff",
   "metadata": {},
   "source": [
    "First we will load the `uq_gilbert` dataset in its natural state."
   ]
  },
  {
   "cell_type": "code",
   "execution_count": null,
   "id": "547b90d8-4acf-4696-970a-15b96aee2e55",
   "metadata": {},
   "outputs": [],
   "source": [
    "xx = m.load(\"gryfn_test_waite\")\n",
    "xx"
   ]
  },
  {
   "cell_type": "code",
   "execution_count": null,
   "id": "1c4c709a-d89e-4919-b6b0-61d9750b806a",
   "metadata": {},
   "outputs": [],
   "source": [
    "m.plot(xx)"
   ]
  },
  {
   "cell_type": "markdown",
   "id": "2dd33d37-22b6-4d37-8535-effd79d9a207",
   "metadata": {},
   "source": [
    "This is a particularly large dataset, consisting of seven bands and 16613x13630 ~= 1.6billion pixels. Taking 2.5 minutes to load even with multiprocessing turned on.\n",
    "\n",
    "Lets load subsets of this data and investigate"
   ]
  },
  {
   "cell_type": "code",
   "execution_count": null,
   "id": "1bcc6882-9699-476b-a0af-beed38ac10c1",
   "metadata": {},
   "outputs": [],
   "source": [
    "xx_red = m.load(\"gryfn_test_waite\", bands=[\"red\"])\n",
    "xx_red"
   ]
  },
  {
   "cell_type": "markdown",
   "id": "223d82f4-8027-4cba-8e81-ae7049a48db7",
   "metadata": {},
   "source": [
    "Loading only a single band of the data takes about 20 seconds, or roughly 1/7 of the time for the whole set."
   ]
  },
  {
   "cell_type": "code",
   "execution_count": null,
   "id": "e5846f38-9a56-4c95-bf6a-e6bebad82fee",
   "metadata": {},
   "outputs": [],
   "source": [
    "m.plot(xx_red)"
   ]
  },
  {
   "cell_type": "markdown",
   "id": "361add68-e899-48ab-ba67-c765d3529567",
   "metadata": {},
   "source": [
    "Lets try and load only a spatial subset of the data and rescale that subset to 100x100 pixels."
   ]
  },
  {
   "cell_type": "code",
   "execution_count": null,
   "id": "c9962908-f6fc-4e15-b6c4-8a4c57776526",
   "metadata": {},
   "outputs": [],
   "source": [
    "gb = GeoBox.from_bbox((138.62892153159546, -34.96895662834354, 138.6293039082798, -34.968640581295116), \"epsg:4326\", shape=(100, 100))\n",
    "xx_subset = m.load(\"gryfn_test_waite\", geobox=gb)\n",
    "xx_subset"
   ]
  },
  {
   "cell_type": "code",
   "execution_count": null,
   "id": "a8e2c6fd-2f6e-4f87-ab07-ae2ef3a976d9",
   "metadata": {},
   "outputs": [],
   "source": [
    "m.plot(xx_subset)"
   ]
  },
  {
   "cell_type": "code",
   "execution_count": null,
   "id": "6c12b3f9-d040-47f2-a460-98371fc67099",
   "metadata": {},
   "outputs": [],
   "source": []
  }
 ],
 "metadata": {
  "kernelspec": {
   "display_name": "Python 3 (ipykernel)",
   "language": "python",
   "name": "python3"
  },
  "language_info": {
   "codemirror_mode": {
    "name": "ipython",
    "version": 3
   },
   "file_extension": ".py",
   "mimetype": "text/x-python",
   "name": "python",
   "nbconvert_exporter": "python",
   "pygments_lexer": "ipython3",
   "version": "3.12.2"
  }
 },
 "nbformat": 4,
 "nbformat_minor": 5
}
